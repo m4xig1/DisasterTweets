{
  "nbformat": 4,
  "nbformat_minor": 0,
  "metadata": {
    "colab": {
      "provenance": [],
      "gpuType": "T4",
      "collapsed_sections": [
        "A4YvC3RSAtnS",
        "jb1xsnTKTeS0",
        "EuTfSKJ8Y5Oz"
      ],
      "include_colab_link": true
    },
    "kernelspec": {
      "name": "python3",
      "display_name": "Python 3"
    },
    "language_info": {
      "name": "python"
    },
    "accelerator": "GPU",
    "widgets": {
      "application/vnd.jupyter.widget-state+json": {
        "1aead7948659493fa12d9b4e85428dc1": {
          "model_module": "@jupyter-widgets/controls",
          "model_name": "HBoxModel",
          "model_module_version": "1.5.0",
          "state": {
            "_dom_classes": [],
            "_model_module": "@jupyter-widgets/controls",
            "_model_module_version": "1.5.0",
            "_model_name": "HBoxModel",
            "_view_count": null,
            "_view_module": "@jupyter-widgets/controls",
            "_view_module_version": "1.5.0",
            "_view_name": "HBoxView",
            "box_style": "",
            "children": [
              "IPY_MODEL_994cf9caf86647e6848dec4980231023",
              "IPY_MODEL_e315a57168c048349e7ab81dde38f577",
              "IPY_MODEL_556933cd56db42c0a90969a49aa958ee"
            ],
            "layout": "IPY_MODEL_548eb194cc6d4d36ba609d81ac382372"
          }
        },
        "994cf9caf86647e6848dec4980231023": {
          "model_module": "@jupyter-widgets/controls",
          "model_name": "HTMLModel",
          "model_module_version": "1.5.0",
          "state": {
            "_dom_classes": [],
            "_model_module": "@jupyter-widgets/controls",
            "_model_module_version": "1.5.0",
            "_model_name": "HTMLModel",
            "_view_count": null,
            "_view_module": "@jupyter-widgets/controls",
            "_view_module_version": "1.5.0",
            "_view_name": "HTMLView",
            "description": "",
            "description_tooltip": null,
            "layout": "IPY_MODEL_beec42644c134975afdfb45f9c9708e1",
            "placeholder": "​",
            "style": "IPY_MODEL_238a9a402b7d44c3b4641f7051964966",
            "value": "Downloading (…)solve/main/vocab.txt: 100%"
          }
        },
        "e315a57168c048349e7ab81dde38f577": {
          "model_module": "@jupyter-widgets/controls",
          "model_name": "FloatProgressModel",
          "model_module_version": "1.5.0",
          "state": {
            "_dom_classes": [],
            "_model_module": "@jupyter-widgets/controls",
            "_model_module_version": "1.5.0",
            "_model_name": "FloatProgressModel",
            "_view_count": null,
            "_view_module": "@jupyter-widgets/controls",
            "_view_module_version": "1.5.0",
            "_view_name": "ProgressView",
            "bar_style": "success",
            "description": "",
            "description_tooltip": null,
            "layout": "IPY_MODEL_06cf120283664642905dc3eea01ca52f",
            "max": 231508,
            "min": 0,
            "orientation": "horizontal",
            "style": "IPY_MODEL_62e626c1a6984f5a9475abc875a1cf80",
            "value": 231508
          }
        },
        "556933cd56db42c0a90969a49aa958ee": {
          "model_module": "@jupyter-widgets/controls",
          "model_name": "HTMLModel",
          "model_module_version": "1.5.0",
          "state": {
            "_dom_classes": [],
            "_model_module": "@jupyter-widgets/controls",
            "_model_module_version": "1.5.0",
            "_model_name": "HTMLModel",
            "_view_count": null,
            "_view_module": "@jupyter-widgets/controls",
            "_view_module_version": "1.5.0",
            "_view_name": "HTMLView",
            "description": "",
            "description_tooltip": null,
            "layout": "IPY_MODEL_4bc89a84027c4453b48580d9a5072273",
            "placeholder": "​",
            "style": "IPY_MODEL_094748b5b3374f41814f7133a62d1c93",
            "value": " 232k/232k [00:00&lt;00:00, 8.78MB/s]"
          }
        },
        "548eb194cc6d4d36ba609d81ac382372": {
          "model_module": "@jupyter-widgets/base",
          "model_name": "LayoutModel",
          "model_module_version": "1.2.0",
          "state": {
            "_model_module": "@jupyter-widgets/base",
            "_model_module_version": "1.2.0",
            "_model_name": "LayoutModel",
            "_view_count": null,
            "_view_module": "@jupyter-widgets/base",
            "_view_module_version": "1.2.0",
            "_view_name": "LayoutView",
            "align_content": null,
            "align_items": null,
            "align_self": null,
            "border": null,
            "bottom": null,
            "display": null,
            "flex": null,
            "flex_flow": null,
            "grid_area": null,
            "grid_auto_columns": null,
            "grid_auto_flow": null,
            "grid_auto_rows": null,
            "grid_column": null,
            "grid_gap": null,
            "grid_row": null,
            "grid_template_areas": null,
            "grid_template_columns": null,
            "grid_template_rows": null,
            "height": null,
            "justify_content": null,
            "justify_items": null,
            "left": null,
            "margin": null,
            "max_height": null,
            "max_width": null,
            "min_height": null,
            "min_width": null,
            "object_fit": null,
            "object_position": null,
            "order": null,
            "overflow": null,
            "overflow_x": null,
            "overflow_y": null,
            "padding": null,
            "right": null,
            "top": null,
            "visibility": null,
            "width": null
          }
        },
        "beec42644c134975afdfb45f9c9708e1": {
          "model_module": "@jupyter-widgets/base",
          "model_name": "LayoutModel",
          "model_module_version": "1.2.0",
          "state": {
            "_model_module": "@jupyter-widgets/base",
            "_model_module_version": "1.2.0",
            "_model_name": "LayoutModel",
            "_view_count": null,
            "_view_module": "@jupyter-widgets/base",
            "_view_module_version": "1.2.0",
            "_view_name": "LayoutView",
            "align_content": null,
            "align_items": null,
            "align_self": null,
            "border": null,
            "bottom": null,
            "display": null,
            "flex": null,
            "flex_flow": null,
            "grid_area": null,
            "grid_auto_columns": null,
            "grid_auto_flow": null,
            "grid_auto_rows": null,
            "grid_column": null,
            "grid_gap": null,
            "grid_row": null,
            "grid_template_areas": null,
            "grid_template_columns": null,
            "grid_template_rows": null,
            "height": null,
            "justify_content": null,
            "justify_items": null,
            "left": null,
            "margin": null,
            "max_height": null,
            "max_width": null,
            "min_height": null,
            "min_width": null,
            "object_fit": null,
            "object_position": null,
            "order": null,
            "overflow": null,
            "overflow_x": null,
            "overflow_y": null,
            "padding": null,
            "right": null,
            "top": null,
            "visibility": null,
            "width": null
          }
        },
        "238a9a402b7d44c3b4641f7051964966": {
          "model_module": "@jupyter-widgets/controls",
          "model_name": "DescriptionStyleModel",
          "model_module_version": "1.5.0",
          "state": {
            "_model_module": "@jupyter-widgets/controls",
            "_model_module_version": "1.5.0",
            "_model_name": "DescriptionStyleModel",
            "_view_count": null,
            "_view_module": "@jupyter-widgets/base",
            "_view_module_version": "1.2.0",
            "_view_name": "StyleView",
            "description_width": ""
          }
        },
        "06cf120283664642905dc3eea01ca52f": {
          "model_module": "@jupyter-widgets/base",
          "model_name": "LayoutModel",
          "model_module_version": "1.2.0",
          "state": {
            "_model_module": "@jupyter-widgets/base",
            "_model_module_version": "1.2.0",
            "_model_name": "LayoutModel",
            "_view_count": null,
            "_view_module": "@jupyter-widgets/base",
            "_view_module_version": "1.2.0",
            "_view_name": "LayoutView",
            "align_content": null,
            "align_items": null,
            "align_self": null,
            "border": null,
            "bottom": null,
            "display": null,
            "flex": null,
            "flex_flow": null,
            "grid_area": null,
            "grid_auto_columns": null,
            "grid_auto_flow": null,
            "grid_auto_rows": null,
            "grid_column": null,
            "grid_gap": null,
            "grid_row": null,
            "grid_template_areas": null,
            "grid_template_columns": null,
            "grid_template_rows": null,
            "height": null,
            "justify_content": null,
            "justify_items": null,
            "left": null,
            "margin": null,
            "max_height": null,
            "max_width": null,
            "min_height": null,
            "min_width": null,
            "object_fit": null,
            "object_position": null,
            "order": null,
            "overflow": null,
            "overflow_x": null,
            "overflow_y": null,
            "padding": null,
            "right": null,
            "top": null,
            "visibility": null,
            "width": null
          }
        },
        "62e626c1a6984f5a9475abc875a1cf80": {
          "model_module": "@jupyter-widgets/controls",
          "model_name": "ProgressStyleModel",
          "model_module_version": "1.5.0",
          "state": {
            "_model_module": "@jupyter-widgets/controls",
            "_model_module_version": "1.5.0",
            "_model_name": "ProgressStyleModel",
            "_view_count": null,
            "_view_module": "@jupyter-widgets/base",
            "_view_module_version": "1.2.0",
            "_view_name": "StyleView",
            "bar_color": null,
            "description_width": ""
          }
        },
        "4bc89a84027c4453b48580d9a5072273": {
          "model_module": "@jupyter-widgets/base",
          "model_name": "LayoutModel",
          "model_module_version": "1.2.0",
          "state": {
            "_model_module": "@jupyter-widgets/base",
            "_model_module_version": "1.2.0",
            "_model_name": "LayoutModel",
            "_view_count": null,
            "_view_module": "@jupyter-widgets/base",
            "_view_module_version": "1.2.0",
            "_view_name": "LayoutView",
            "align_content": null,
            "align_items": null,
            "align_self": null,
            "border": null,
            "bottom": null,
            "display": null,
            "flex": null,
            "flex_flow": null,
            "grid_area": null,
            "grid_auto_columns": null,
            "grid_auto_flow": null,
            "grid_auto_rows": null,
            "grid_column": null,
            "grid_gap": null,
            "grid_row": null,
            "grid_template_areas": null,
            "grid_template_columns": null,
            "grid_template_rows": null,
            "height": null,
            "justify_content": null,
            "justify_items": null,
            "left": null,
            "margin": null,
            "max_height": null,
            "max_width": null,
            "min_height": null,
            "min_width": null,
            "object_fit": null,
            "object_position": null,
            "order": null,
            "overflow": null,
            "overflow_x": null,
            "overflow_y": null,
            "padding": null,
            "right": null,
            "top": null,
            "visibility": null,
            "width": null
          }
        },
        "094748b5b3374f41814f7133a62d1c93": {
          "model_module": "@jupyter-widgets/controls",
          "model_name": "DescriptionStyleModel",
          "model_module_version": "1.5.0",
          "state": {
            "_model_module": "@jupyter-widgets/controls",
            "_model_module_version": "1.5.0",
            "_model_name": "DescriptionStyleModel",
            "_view_count": null,
            "_view_module": "@jupyter-widgets/base",
            "_view_module_version": "1.2.0",
            "_view_name": "StyleView",
            "description_width": ""
          }
        },
        "ac66ff7c4eae4f5f85143bf2dfcf75ba": {
          "model_module": "@jupyter-widgets/controls",
          "model_name": "HBoxModel",
          "model_module_version": "1.5.0",
          "state": {
            "_dom_classes": [],
            "_model_module": "@jupyter-widgets/controls",
            "_model_module_version": "1.5.0",
            "_model_name": "HBoxModel",
            "_view_count": null,
            "_view_module": "@jupyter-widgets/controls",
            "_view_module_version": "1.5.0",
            "_view_name": "HBoxView",
            "box_style": "",
            "children": [
              "IPY_MODEL_b14f6d449bf34a6bb7de72a14d412e3d",
              "IPY_MODEL_aa249dda29fd41ce88612fa0bd7ff1ae",
              "IPY_MODEL_6c3bbc429faf46e6a345779e81da1025"
            ],
            "layout": "IPY_MODEL_1a2e148ea68b4785b271e416ec6b1358"
          }
        },
        "b14f6d449bf34a6bb7de72a14d412e3d": {
          "model_module": "@jupyter-widgets/controls",
          "model_name": "HTMLModel",
          "model_module_version": "1.5.0",
          "state": {
            "_dom_classes": [],
            "_model_module": "@jupyter-widgets/controls",
            "_model_module_version": "1.5.0",
            "_model_name": "HTMLModel",
            "_view_count": null,
            "_view_module": "@jupyter-widgets/controls",
            "_view_module_version": "1.5.0",
            "_view_name": "HTMLView",
            "description": "",
            "description_tooltip": null,
            "layout": "IPY_MODEL_f7919312be7048998ae57f7f8206049d",
            "placeholder": "​",
            "style": "IPY_MODEL_ac7597733ae745b6b3d8a371d5810392",
            "value": "Downloading (…)okenizer_config.json: 100%"
          }
        },
        "aa249dda29fd41ce88612fa0bd7ff1ae": {
          "model_module": "@jupyter-widgets/controls",
          "model_name": "FloatProgressModel",
          "model_module_version": "1.5.0",
          "state": {
            "_dom_classes": [],
            "_model_module": "@jupyter-widgets/controls",
            "_model_module_version": "1.5.0",
            "_model_name": "FloatProgressModel",
            "_view_count": null,
            "_view_module": "@jupyter-widgets/controls",
            "_view_module_version": "1.5.0",
            "_view_name": "ProgressView",
            "bar_style": "success",
            "description": "",
            "description_tooltip": null,
            "layout": "IPY_MODEL_a5bd6229f0c24115a936e79c023de6f3",
            "max": 28,
            "min": 0,
            "orientation": "horizontal",
            "style": "IPY_MODEL_faf4bf04a0ac461ba89070c3fb080798",
            "value": 28
          }
        },
        "6c3bbc429faf46e6a345779e81da1025": {
          "model_module": "@jupyter-widgets/controls",
          "model_name": "HTMLModel",
          "model_module_version": "1.5.0",
          "state": {
            "_dom_classes": [],
            "_model_module": "@jupyter-widgets/controls",
            "_model_module_version": "1.5.0",
            "_model_name": "HTMLModel",
            "_view_count": null,
            "_view_module": "@jupyter-widgets/controls",
            "_view_module_version": "1.5.0",
            "_view_name": "HTMLView",
            "description": "",
            "description_tooltip": null,
            "layout": "IPY_MODEL_4adcac3a4ce84f9bb66fbf4fa029f008",
            "placeholder": "​",
            "style": "IPY_MODEL_6e8376fb25274d78a41064fa9428e4d8",
            "value": " 28.0/28.0 [00:00&lt;00:00, 2.14kB/s]"
          }
        },
        "1a2e148ea68b4785b271e416ec6b1358": {
          "model_module": "@jupyter-widgets/base",
          "model_name": "LayoutModel",
          "model_module_version": "1.2.0",
          "state": {
            "_model_module": "@jupyter-widgets/base",
            "_model_module_version": "1.2.0",
            "_model_name": "LayoutModel",
            "_view_count": null,
            "_view_module": "@jupyter-widgets/base",
            "_view_module_version": "1.2.0",
            "_view_name": "LayoutView",
            "align_content": null,
            "align_items": null,
            "align_self": null,
            "border": null,
            "bottom": null,
            "display": null,
            "flex": null,
            "flex_flow": null,
            "grid_area": null,
            "grid_auto_columns": null,
            "grid_auto_flow": null,
            "grid_auto_rows": null,
            "grid_column": null,
            "grid_gap": null,
            "grid_row": null,
            "grid_template_areas": null,
            "grid_template_columns": null,
            "grid_template_rows": null,
            "height": null,
            "justify_content": null,
            "justify_items": null,
            "left": null,
            "margin": null,
            "max_height": null,
            "max_width": null,
            "min_height": null,
            "min_width": null,
            "object_fit": null,
            "object_position": null,
            "order": null,
            "overflow": null,
            "overflow_x": null,
            "overflow_y": null,
            "padding": null,
            "right": null,
            "top": null,
            "visibility": null,
            "width": null
          }
        },
        "f7919312be7048998ae57f7f8206049d": {
          "model_module": "@jupyter-widgets/base",
          "model_name": "LayoutModel",
          "model_module_version": "1.2.0",
          "state": {
            "_model_module": "@jupyter-widgets/base",
            "_model_module_version": "1.2.0",
            "_model_name": "LayoutModel",
            "_view_count": null,
            "_view_module": "@jupyter-widgets/base",
            "_view_module_version": "1.2.0",
            "_view_name": "LayoutView",
            "align_content": null,
            "align_items": null,
            "align_self": null,
            "border": null,
            "bottom": null,
            "display": null,
            "flex": null,
            "flex_flow": null,
            "grid_area": null,
            "grid_auto_columns": null,
            "grid_auto_flow": null,
            "grid_auto_rows": null,
            "grid_column": null,
            "grid_gap": null,
            "grid_row": null,
            "grid_template_areas": null,
            "grid_template_columns": null,
            "grid_template_rows": null,
            "height": null,
            "justify_content": null,
            "justify_items": null,
            "left": null,
            "margin": null,
            "max_height": null,
            "max_width": null,
            "min_height": null,
            "min_width": null,
            "object_fit": null,
            "object_position": null,
            "order": null,
            "overflow": null,
            "overflow_x": null,
            "overflow_y": null,
            "padding": null,
            "right": null,
            "top": null,
            "visibility": null,
            "width": null
          }
        },
        "ac7597733ae745b6b3d8a371d5810392": {
          "model_module": "@jupyter-widgets/controls",
          "model_name": "DescriptionStyleModel",
          "model_module_version": "1.5.0",
          "state": {
            "_model_module": "@jupyter-widgets/controls",
            "_model_module_version": "1.5.0",
            "_model_name": "DescriptionStyleModel",
            "_view_count": null,
            "_view_module": "@jupyter-widgets/base",
            "_view_module_version": "1.2.0",
            "_view_name": "StyleView",
            "description_width": ""
          }
        },
        "a5bd6229f0c24115a936e79c023de6f3": {
          "model_module": "@jupyter-widgets/base",
          "model_name": "LayoutModel",
          "model_module_version": "1.2.0",
          "state": {
            "_model_module": "@jupyter-widgets/base",
            "_model_module_version": "1.2.0",
            "_model_name": "LayoutModel",
            "_view_count": null,
            "_view_module": "@jupyter-widgets/base",
            "_view_module_version": "1.2.0",
            "_view_name": "LayoutView",
            "align_content": null,
            "align_items": null,
            "align_self": null,
            "border": null,
            "bottom": null,
            "display": null,
            "flex": null,
            "flex_flow": null,
            "grid_area": null,
            "grid_auto_columns": null,
            "grid_auto_flow": null,
            "grid_auto_rows": null,
            "grid_column": null,
            "grid_gap": null,
            "grid_row": null,
            "grid_template_areas": null,
            "grid_template_columns": null,
            "grid_template_rows": null,
            "height": null,
            "justify_content": null,
            "justify_items": null,
            "left": null,
            "margin": null,
            "max_height": null,
            "max_width": null,
            "min_height": null,
            "min_width": null,
            "object_fit": null,
            "object_position": null,
            "order": null,
            "overflow": null,
            "overflow_x": null,
            "overflow_y": null,
            "padding": null,
            "right": null,
            "top": null,
            "visibility": null,
            "width": null
          }
        },
        "faf4bf04a0ac461ba89070c3fb080798": {
          "model_module": "@jupyter-widgets/controls",
          "model_name": "ProgressStyleModel",
          "model_module_version": "1.5.0",
          "state": {
            "_model_module": "@jupyter-widgets/controls",
            "_model_module_version": "1.5.0",
            "_model_name": "ProgressStyleModel",
            "_view_count": null,
            "_view_module": "@jupyter-widgets/base",
            "_view_module_version": "1.2.0",
            "_view_name": "StyleView",
            "bar_color": null,
            "description_width": ""
          }
        },
        "4adcac3a4ce84f9bb66fbf4fa029f008": {
          "model_module": "@jupyter-widgets/base",
          "model_name": "LayoutModel",
          "model_module_version": "1.2.0",
          "state": {
            "_model_module": "@jupyter-widgets/base",
            "_model_module_version": "1.2.0",
            "_model_name": "LayoutModel",
            "_view_count": null,
            "_view_module": "@jupyter-widgets/base",
            "_view_module_version": "1.2.0",
            "_view_name": "LayoutView",
            "align_content": null,
            "align_items": null,
            "align_self": null,
            "border": null,
            "bottom": null,
            "display": null,
            "flex": null,
            "flex_flow": null,
            "grid_area": null,
            "grid_auto_columns": null,
            "grid_auto_flow": null,
            "grid_auto_rows": null,
            "grid_column": null,
            "grid_gap": null,
            "grid_row": null,
            "grid_template_areas": null,
            "grid_template_columns": null,
            "grid_template_rows": null,
            "height": null,
            "justify_content": null,
            "justify_items": null,
            "left": null,
            "margin": null,
            "max_height": null,
            "max_width": null,
            "min_height": null,
            "min_width": null,
            "object_fit": null,
            "object_position": null,
            "order": null,
            "overflow": null,
            "overflow_x": null,
            "overflow_y": null,
            "padding": null,
            "right": null,
            "top": null,
            "visibility": null,
            "width": null
          }
        },
        "6e8376fb25274d78a41064fa9428e4d8": {
          "model_module": "@jupyter-widgets/controls",
          "model_name": "DescriptionStyleModel",
          "model_module_version": "1.5.0",
          "state": {
            "_model_module": "@jupyter-widgets/controls",
            "_model_module_version": "1.5.0",
            "_model_name": "DescriptionStyleModel",
            "_view_count": null,
            "_view_module": "@jupyter-widgets/base",
            "_view_module_version": "1.2.0",
            "_view_name": "StyleView",
            "description_width": ""
          }
        },
        "40c997aaa59143b880fd9e56ffc05165": {
          "model_module": "@jupyter-widgets/controls",
          "model_name": "HBoxModel",
          "model_module_version": "1.5.0",
          "state": {
            "_dom_classes": [],
            "_model_module": "@jupyter-widgets/controls",
            "_model_module_version": "1.5.0",
            "_model_name": "HBoxModel",
            "_view_count": null,
            "_view_module": "@jupyter-widgets/controls",
            "_view_module_version": "1.5.0",
            "_view_name": "HBoxView",
            "box_style": "",
            "children": [
              "IPY_MODEL_de5b7f7aa04843bba12860057dbef60a",
              "IPY_MODEL_ccf262516341429ba72ee6799df266fd",
              "IPY_MODEL_840d153723e04ed8b019488173187891"
            ],
            "layout": "IPY_MODEL_776fbb0a457946168f3e22babd876671"
          }
        },
        "de5b7f7aa04843bba12860057dbef60a": {
          "model_module": "@jupyter-widgets/controls",
          "model_name": "HTMLModel",
          "model_module_version": "1.5.0",
          "state": {
            "_dom_classes": [],
            "_model_module": "@jupyter-widgets/controls",
            "_model_module_version": "1.5.0",
            "_model_name": "HTMLModel",
            "_view_count": null,
            "_view_module": "@jupyter-widgets/controls",
            "_view_module_version": "1.5.0",
            "_view_name": "HTMLView",
            "description": "",
            "description_tooltip": null,
            "layout": "IPY_MODEL_526ce558d941431ba5b367891b65140c",
            "placeholder": "​",
            "style": "IPY_MODEL_0322e0ceb8a04c11b23f446518ac36b5",
            "value": "Downloading (…)lve/main/config.json: 100%"
          }
        },
        "ccf262516341429ba72ee6799df266fd": {
          "model_module": "@jupyter-widgets/controls",
          "model_name": "FloatProgressModel",
          "model_module_version": "1.5.0",
          "state": {
            "_dom_classes": [],
            "_model_module": "@jupyter-widgets/controls",
            "_model_module_version": "1.5.0",
            "_model_name": "FloatProgressModel",
            "_view_count": null,
            "_view_module": "@jupyter-widgets/controls",
            "_view_module_version": "1.5.0",
            "_view_name": "ProgressView",
            "bar_style": "success",
            "description": "",
            "description_tooltip": null,
            "layout": "IPY_MODEL_efc4234cc5c145eaad2e28572c097843",
            "max": 570,
            "min": 0,
            "orientation": "horizontal",
            "style": "IPY_MODEL_fd81e263c8d1421dbce7950bdbe5fac0",
            "value": 570
          }
        },
        "840d153723e04ed8b019488173187891": {
          "model_module": "@jupyter-widgets/controls",
          "model_name": "HTMLModel",
          "model_module_version": "1.5.0",
          "state": {
            "_dom_classes": [],
            "_model_module": "@jupyter-widgets/controls",
            "_model_module_version": "1.5.0",
            "_model_name": "HTMLModel",
            "_view_count": null,
            "_view_module": "@jupyter-widgets/controls",
            "_view_module_version": "1.5.0",
            "_view_name": "HTMLView",
            "description": "",
            "description_tooltip": null,
            "layout": "IPY_MODEL_e45171b1af8e4f12bb074c65e8a80126",
            "placeholder": "​",
            "style": "IPY_MODEL_8c9cbd7d0f42454d876c525ef69cde8c",
            "value": " 570/570 [00:00&lt;00:00, 32.1kB/s]"
          }
        },
        "776fbb0a457946168f3e22babd876671": {
          "model_module": "@jupyter-widgets/base",
          "model_name": "LayoutModel",
          "model_module_version": "1.2.0",
          "state": {
            "_model_module": "@jupyter-widgets/base",
            "_model_module_version": "1.2.0",
            "_model_name": "LayoutModel",
            "_view_count": null,
            "_view_module": "@jupyter-widgets/base",
            "_view_module_version": "1.2.0",
            "_view_name": "LayoutView",
            "align_content": null,
            "align_items": null,
            "align_self": null,
            "border": null,
            "bottom": null,
            "display": null,
            "flex": null,
            "flex_flow": null,
            "grid_area": null,
            "grid_auto_columns": null,
            "grid_auto_flow": null,
            "grid_auto_rows": null,
            "grid_column": null,
            "grid_gap": null,
            "grid_row": null,
            "grid_template_areas": null,
            "grid_template_columns": null,
            "grid_template_rows": null,
            "height": null,
            "justify_content": null,
            "justify_items": null,
            "left": null,
            "margin": null,
            "max_height": null,
            "max_width": null,
            "min_height": null,
            "min_width": null,
            "object_fit": null,
            "object_position": null,
            "order": null,
            "overflow": null,
            "overflow_x": null,
            "overflow_y": null,
            "padding": null,
            "right": null,
            "top": null,
            "visibility": null,
            "width": null
          }
        },
        "526ce558d941431ba5b367891b65140c": {
          "model_module": "@jupyter-widgets/base",
          "model_name": "LayoutModel",
          "model_module_version": "1.2.0",
          "state": {
            "_model_module": "@jupyter-widgets/base",
            "_model_module_version": "1.2.0",
            "_model_name": "LayoutModel",
            "_view_count": null,
            "_view_module": "@jupyter-widgets/base",
            "_view_module_version": "1.2.0",
            "_view_name": "LayoutView",
            "align_content": null,
            "align_items": null,
            "align_self": null,
            "border": null,
            "bottom": null,
            "display": null,
            "flex": null,
            "flex_flow": null,
            "grid_area": null,
            "grid_auto_columns": null,
            "grid_auto_flow": null,
            "grid_auto_rows": null,
            "grid_column": null,
            "grid_gap": null,
            "grid_row": null,
            "grid_template_areas": null,
            "grid_template_columns": null,
            "grid_template_rows": null,
            "height": null,
            "justify_content": null,
            "justify_items": null,
            "left": null,
            "margin": null,
            "max_height": null,
            "max_width": null,
            "min_height": null,
            "min_width": null,
            "object_fit": null,
            "object_position": null,
            "order": null,
            "overflow": null,
            "overflow_x": null,
            "overflow_y": null,
            "padding": null,
            "right": null,
            "top": null,
            "visibility": null,
            "width": null
          }
        },
        "0322e0ceb8a04c11b23f446518ac36b5": {
          "model_module": "@jupyter-widgets/controls",
          "model_name": "DescriptionStyleModel",
          "model_module_version": "1.5.0",
          "state": {
            "_model_module": "@jupyter-widgets/controls",
            "_model_module_version": "1.5.0",
            "_model_name": "DescriptionStyleModel",
            "_view_count": null,
            "_view_module": "@jupyter-widgets/base",
            "_view_module_version": "1.2.0",
            "_view_name": "StyleView",
            "description_width": ""
          }
        },
        "efc4234cc5c145eaad2e28572c097843": {
          "model_module": "@jupyter-widgets/base",
          "model_name": "LayoutModel",
          "model_module_version": "1.2.0",
          "state": {
            "_model_module": "@jupyter-widgets/base",
            "_model_module_version": "1.2.0",
            "_model_name": "LayoutModel",
            "_view_count": null,
            "_view_module": "@jupyter-widgets/base",
            "_view_module_version": "1.2.0",
            "_view_name": "LayoutView",
            "align_content": null,
            "align_items": null,
            "align_self": null,
            "border": null,
            "bottom": null,
            "display": null,
            "flex": null,
            "flex_flow": null,
            "grid_area": null,
            "grid_auto_columns": null,
            "grid_auto_flow": null,
            "grid_auto_rows": null,
            "grid_column": null,
            "grid_gap": null,
            "grid_row": null,
            "grid_template_areas": null,
            "grid_template_columns": null,
            "grid_template_rows": null,
            "height": null,
            "justify_content": null,
            "justify_items": null,
            "left": null,
            "margin": null,
            "max_height": null,
            "max_width": null,
            "min_height": null,
            "min_width": null,
            "object_fit": null,
            "object_position": null,
            "order": null,
            "overflow": null,
            "overflow_x": null,
            "overflow_y": null,
            "padding": null,
            "right": null,
            "top": null,
            "visibility": null,
            "width": null
          }
        },
        "fd81e263c8d1421dbce7950bdbe5fac0": {
          "model_module": "@jupyter-widgets/controls",
          "model_name": "ProgressStyleModel",
          "model_module_version": "1.5.0",
          "state": {
            "_model_module": "@jupyter-widgets/controls",
            "_model_module_version": "1.5.0",
            "_model_name": "ProgressStyleModel",
            "_view_count": null,
            "_view_module": "@jupyter-widgets/base",
            "_view_module_version": "1.2.0",
            "_view_name": "StyleView",
            "bar_color": null,
            "description_width": ""
          }
        },
        "e45171b1af8e4f12bb074c65e8a80126": {
          "model_module": "@jupyter-widgets/base",
          "model_name": "LayoutModel",
          "model_module_version": "1.2.0",
          "state": {
            "_model_module": "@jupyter-widgets/base",
            "_model_module_version": "1.2.0",
            "_model_name": "LayoutModel",
            "_view_count": null,
            "_view_module": "@jupyter-widgets/base",
            "_view_module_version": "1.2.0",
            "_view_name": "LayoutView",
            "align_content": null,
            "align_items": null,
            "align_self": null,
            "border": null,
            "bottom": null,
            "display": null,
            "flex": null,
            "flex_flow": null,
            "grid_area": null,
            "grid_auto_columns": null,
            "grid_auto_flow": null,
            "grid_auto_rows": null,
            "grid_column": null,
            "grid_gap": null,
            "grid_row": null,
            "grid_template_areas": null,
            "grid_template_columns": null,
            "grid_template_rows": null,
            "height": null,
            "justify_content": null,
            "justify_items": null,
            "left": null,
            "margin": null,
            "max_height": null,
            "max_width": null,
            "min_height": null,
            "min_width": null,
            "object_fit": null,
            "object_position": null,
            "order": null,
            "overflow": null,
            "overflow_x": null,
            "overflow_y": null,
            "padding": null,
            "right": null,
            "top": null,
            "visibility": null,
            "width": null
          }
        },
        "8c9cbd7d0f42454d876c525ef69cde8c": {
          "model_module": "@jupyter-widgets/controls",
          "model_name": "DescriptionStyleModel",
          "model_module_version": "1.5.0",
          "state": {
            "_model_module": "@jupyter-widgets/controls",
            "_model_module_version": "1.5.0",
            "_model_name": "DescriptionStyleModel",
            "_view_count": null,
            "_view_module": "@jupyter-widgets/base",
            "_view_module_version": "1.2.0",
            "_view_name": "StyleView",
            "description_width": ""
          }
        },
        "1afb6f56416a464586168b315f1174e0": {
          "model_module": "@jupyter-widgets/controls",
          "model_name": "HBoxModel",
          "model_module_version": "1.5.0",
          "state": {
            "_dom_classes": [],
            "_model_module": "@jupyter-widgets/controls",
            "_model_module_version": "1.5.0",
            "_model_name": "HBoxModel",
            "_view_count": null,
            "_view_module": "@jupyter-widgets/controls",
            "_view_module_version": "1.5.0",
            "_view_name": "HBoxView",
            "box_style": "",
            "children": [
              "IPY_MODEL_b98d132604a14bea86817535d3894347",
              "IPY_MODEL_9d96ef4a1bd24d8ea0d7c51fbbd67b20",
              "IPY_MODEL_90c1229de5bf4405af1b2b183dbb8be2"
            ],
            "layout": "IPY_MODEL_ecb9e5ab8d654a9093015a780be5359e"
          }
        },
        "b98d132604a14bea86817535d3894347": {
          "model_module": "@jupyter-widgets/controls",
          "model_name": "HTMLModel",
          "model_module_version": "1.5.0",
          "state": {
            "_dom_classes": [],
            "_model_module": "@jupyter-widgets/controls",
            "_model_module_version": "1.5.0",
            "_model_name": "HTMLModel",
            "_view_count": null,
            "_view_module": "@jupyter-widgets/controls",
            "_view_module_version": "1.5.0",
            "_view_name": "HTMLView",
            "description": "",
            "description_tooltip": null,
            "layout": "IPY_MODEL_4f970585e9474c53983acf8be12d77d1",
            "placeholder": "​",
            "style": "IPY_MODEL_7fe6653c6aa54c66bdca9e6b73aabb02",
            "value": "Downloading model.safetensors: 100%"
          }
        },
        "9d96ef4a1bd24d8ea0d7c51fbbd67b20": {
          "model_module": "@jupyter-widgets/controls",
          "model_name": "FloatProgressModel",
          "model_module_version": "1.5.0",
          "state": {
            "_dom_classes": [],
            "_model_module": "@jupyter-widgets/controls",
            "_model_module_version": "1.5.0",
            "_model_name": "FloatProgressModel",
            "_view_count": null,
            "_view_module": "@jupyter-widgets/controls",
            "_view_module_version": "1.5.0",
            "_view_name": "ProgressView",
            "bar_style": "success",
            "description": "",
            "description_tooltip": null,
            "layout": "IPY_MODEL_fc9cde3b5bd149c9ad44b01f0017a07f",
            "max": 440449768,
            "min": 0,
            "orientation": "horizontal",
            "style": "IPY_MODEL_66a755c383a14d59b23b625fa968f4a8",
            "value": 440449768
          }
        },
        "90c1229de5bf4405af1b2b183dbb8be2": {
          "model_module": "@jupyter-widgets/controls",
          "model_name": "HTMLModel",
          "model_module_version": "1.5.0",
          "state": {
            "_dom_classes": [],
            "_model_module": "@jupyter-widgets/controls",
            "_model_module_version": "1.5.0",
            "_model_name": "HTMLModel",
            "_view_count": null,
            "_view_module": "@jupyter-widgets/controls",
            "_view_module_version": "1.5.0",
            "_view_name": "HTMLView",
            "description": "",
            "description_tooltip": null,
            "layout": "IPY_MODEL_3a5582e1bfbe42c1ba4162d55cb4254a",
            "placeholder": "​",
            "style": "IPY_MODEL_c52608dc28184eb9b9d1aa4a5c381f24",
            "value": " 440M/440M [00:01&lt;00:00, 399MB/s]"
          }
        },
        "ecb9e5ab8d654a9093015a780be5359e": {
          "model_module": "@jupyter-widgets/base",
          "model_name": "LayoutModel",
          "model_module_version": "1.2.0",
          "state": {
            "_model_module": "@jupyter-widgets/base",
            "_model_module_version": "1.2.0",
            "_model_name": "LayoutModel",
            "_view_count": null,
            "_view_module": "@jupyter-widgets/base",
            "_view_module_version": "1.2.0",
            "_view_name": "LayoutView",
            "align_content": null,
            "align_items": null,
            "align_self": null,
            "border": null,
            "bottom": null,
            "display": null,
            "flex": null,
            "flex_flow": null,
            "grid_area": null,
            "grid_auto_columns": null,
            "grid_auto_flow": null,
            "grid_auto_rows": null,
            "grid_column": null,
            "grid_gap": null,
            "grid_row": null,
            "grid_template_areas": null,
            "grid_template_columns": null,
            "grid_template_rows": null,
            "height": null,
            "justify_content": null,
            "justify_items": null,
            "left": null,
            "margin": null,
            "max_height": null,
            "max_width": null,
            "min_height": null,
            "min_width": null,
            "object_fit": null,
            "object_position": null,
            "order": null,
            "overflow": null,
            "overflow_x": null,
            "overflow_y": null,
            "padding": null,
            "right": null,
            "top": null,
            "visibility": null,
            "width": null
          }
        },
        "4f970585e9474c53983acf8be12d77d1": {
          "model_module": "@jupyter-widgets/base",
          "model_name": "LayoutModel",
          "model_module_version": "1.2.0",
          "state": {
            "_model_module": "@jupyter-widgets/base",
            "_model_module_version": "1.2.0",
            "_model_name": "LayoutModel",
            "_view_count": null,
            "_view_module": "@jupyter-widgets/base",
            "_view_module_version": "1.2.0",
            "_view_name": "LayoutView",
            "align_content": null,
            "align_items": null,
            "align_self": null,
            "border": null,
            "bottom": null,
            "display": null,
            "flex": null,
            "flex_flow": null,
            "grid_area": null,
            "grid_auto_columns": null,
            "grid_auto_flow": null,
            "grid_auto_rows": null,
            "grid_column": null,
            "grid_gap": null,
            "grid_row": null,
            "grid_template_areas": null,
            "grid_template_columns": null,
            "grid_template_rows": null,
            "height": null,
            "justify_content": null,
            "justify_items": null,
            "left": null,
            "margin": null,
            "max_height": null,
            "max_width": null,
            "min_height": null,
            "min_width": null,
            "object_fit": null,
            "object_position": null,
            "order": null,
            "overflow": null,
            "overflow_x": null,
            "overflow_y": null,
            "padding": null,
            "right": null,
            "top": null,
            "visibility": null,
            "width": null
          }
        },
        "7fe6653c6aa54c66bdca9e6b73aabb02": {
          "model_module": "@jupyter-widgets/controls",
          "model_name": "DescriptionStyleModel",
          "model_module_version": "1.5.0",
          "state": {
            "_model_module": "@jupyter-widgets/controls",
            "_model_module_version": "1.5.0",
            "_model_name": "DescriptionStyleModel",
            "_view_count": null,
            "_view_module": "@jupyter-widgets/base",
            "_view_module_version": "1.2.0",
            "_view_name": "StyleView",
            "description_width": ""
          }
        },
        "fc9cde3b5bd149c9ad44b01f0017a07f": {
          "model_module": "@jupyter-widgets/base",
          "model_name": "LayoutModel",
          "model_module_version": "1.2.0",
          "state": {
            "_model_module": "@jupyter-widgets/base",
            "_model_module_version": "1.2.0",
            "_model_name": "LayoutModel",
            "_view_count": null,
            "_view_module": "@jupyter-widgets/base",
            "_view_module_version": "1.2.0",
            "_view_name": "LayoutView",
            "align_content": null,
            "align_items": null,
            "align_self": null,
            "border": null,
            "bottom": null,
            "display": null,
            "flex": null,
            "flex_flow": null,
            "grid_area": null,
            "grid_auto_columns": null,
            "grid_auto_flow": null,
            "grid_auto_rows": null,
            "grid_column": null,
            "grid_gap": null,
            "grid_row": null,
            "grid_template_areas": null,
            "grid_template_columns": null,
            "grid_template_rows": null,
            "height": null,
            "justify_content": null,
            "justify_items": null,
            "left": null,
            "margin": null,
            "max_height": null,
            "max_width": null,
            "min_height": null,
            "min_width": null,
            "object_fit": null,
            "object_position": null,
            "order": null,
            "overflow": null,
            "overflow_x": null,
            "overflow_y": null,
            "padding": null,
            "right": null,
            "top": null,
            "visibility": null,
            "width": null
          }
        },
        "66a755c383a14d59b23b625fa968f4a8": {
          "model_module": "@jupyter-widgets/controls",
          "model_name": "ProgressStyleModel",
          "model_module_version": "1.5.0",
          "state": {
            "_model_module": "@jupyter-widgets/controls",
            "_model_module_version": "1.5.0",
            "_model_name": "ProgressStyleModel",
            "_view_count": null,
            "_view_module": "@jupyter-widgets/base",
            "_view_module_version": "1.2.0",
            "_view_name": "StyleView",
            "bar_color": null,
            "description_width": ""
          }
        },
        "3a5582e1bfbe42c1ba4162d55cb4254a": {
          "model_module": "@jupyter-widgets/base",
          "model_name": "LayoutModel",
          "model_module_version": "1.2.0",
          "state": {
            "_model_module": "@jupyter-widgets/base",
            "_model_module_version": "1.2.0",
            "_model_name": "LayoutModel",
            "_view_count": null,
            "_view_module": "@jupyter-widgets/base",
            "_view_module_version": "1.2.0",
            "_view_name": "LayoutView",
            "align_content": null,
            "align_items": null,
            "align_self": null,
            "border": null,
            "bottom": null,
            "display": null,
            "flex": null,
            "flex_flow": null,
            "grid_area": null,
            "grid_auto_columns": null,
            "grid_auto_flow": null,
            "grid_auto_rows": null,
            "grid_column": null,
            "grid_gap": null,
            "grid_row": null,
            "grid_template_areas": null,
            "grid_template_columns": null,
            "grid_template_rows": null,
            "height": null,
            "justify_content": null,
            "justify_items": null,
            "left": null,
            "margin": null,
            "max_height": null,
            "max_width": null,
            "min_height": null,
            "min_width": null,
            "object_fit": null,
            "object_position": null,
            "order": null,
            "overflow": null,
            "overflow_x": null,
            "overflow_y": null,
            "padding": null,
            "right": null,
            "top": null,
            "visibility": null,
            "width": null
          }
        },
        "c52608dc28184eb9b9d1aa4a5c381f24": {
          "model_module": "@jupyter-widgets/controls",
          "model_name": "DescriptionStyleModel",
          "model_module_version": "1.5.0",
          "state": {
            "_model_module": "@jupyter-widgets/controls",
            "_model_module_version": "1.5.0",
            "_model_name": "DescriptionStyleModel",
            "_view_count": null,
            "_view_module": "@jupyter-widgets/base",
            "_view_module_version": "1.2.0",
            "_view_name": "StyleView",
            "description_width": ""
          }
        }
      }
    }
  },
  "cells": [
    {
      "cell_type": "markdown",
      "metadata": {
        "id": "view-in-github",
        "colab_type": "text"
      },
      "source": [
        "<a href=\"https://colab.research.google.com/github/m4xig1/DisasterTweets/blob/main/Disaster_Tweets_Kaggle_(1).ipynb\" target=\"_parent\"><img src=\"https://colab.research.google.com/assets/colab-badge.svg\" alt=\"Open In Colab\"/></a>"
      ]
    },
    {
      "cell_type": "markdown",
      "source": [
        "Хочу попробовать использовать градиентный бустинг над более простыми моделями, завершим fine-tune'm LLM типо BERT"
      ],
      "metadata": {
        "id": "abl3jdLfDQ1r"
      }
    },
    {
      "cell_type": "code",
      "execution_count": null,
      "metadata": {
        "id": "K3YjhCRc6eZu"
      },
      "outputs": [],
      "source": [
        "import numpy as np\n",
        "import pandas as pd\n",
        "from sklearn import feature_extraction, linear_model, model_selection, preprocessing\n",
        "import torch\n",
        "import torch.nn as nn\n",
        "from torch.utils.data import DataLoader\n",
        "\n",
        "from tqdm.auto import tqdm\n",
        "\n",
        "import matplotlib.pyplot as plt\n",
        "import seaborn as sns\n"
      ]
    },
    {
      "cell_type": "code",
      "source": [
        "# upload zip file\n",
        "!unzip nlp-getting-started.zip -d data"
      ],
      "metadata": {
        "colab": {
          "base_uri": "https://localhost:8080/"
        },
        "id": "5m9qr14M61uN",
        "outputId": "e27645d4-c5d1-412d-f703-6648932d7bb9"
      },
      "execution_count": null,
      "outputs": [
        {
          "output_type": "stream",
          "name": "stdout",
          "text": [
            "Archive:  nlp-getting-started.zip\n",
            "replace data/sample_submission.csv? [y]es, [n]o, [A]ll, [N]one, [r]ename: "
          ]
        }
      ]
    },
    {
      "cell_type": "code",
      "source": [
        "device = 'cuda' if torch.cuda.is_available() else 'cpu'\n",
        "device"
      ],
      "metadata": {
        "colab": {
          "base_uri": "https://localhost:8080/",
          "height": 35
        },
        "id": "Cehf_POLJrTb",
        "outputId": "4d777093-ce8f-443b-b121-db20fca81ff1"
      },
      "execution_count": null,
      "outputs": [
        {
          "output_type": "execute_result",
          "data": {
            "text/plain": [
              "'cuda'"
            ],
            "application/vnd.google.colaboratory.intrinsic+json": {
              "type": "string"
            }
          },
          "metadata": {},
          "execution_count": 3
        }
      ]
    },
    {
      "cell_type": "code",
      "source": [
        "train_df = pd.read_csv(\"/content/data/train.csv\")\n",
        "test_df = pd.read_csv(\"/content/data/test.csv\")"
      ],
      "metadata": {
        "id": "He-Ii1oO9ZTw"
      },
      "execution_count": null,
      "outputs": []
    },
    {
      "cell_type": "code",
      "source": [
        "train_df.head() # checking if data uploaded correctly"
      ],
      "metadata": {
        "colab": {
          "base_uri": "https://localhost:8080/",
          "height": 206
        },
        "id": "Yns1ctO2944C",
        "outputId": "f53ca71c-0a1e-4963-c457-f0a93ec8bef8"
      },
      "execution_count": null,
      "outputs": [
        {
          "output_type": "execute_result",
          "data": {
            "text/plain": [
              "   id keyword location                                               text  \\\n",
              "0   1     NaN      NaN  Our Deeds are the Reason of this #earthquake M...   \n",
              "1   4     NaN      NaN             Forest fire near La Ronge Sask. Canada   \n",
              "2   5     NaN      NaN  All residents asked to 'shelter in place' are ...   \n",
              "3   6     NaN      NaN  13,000 people receive #wildfires evacuation or...   \n",
              "4   7     NaN      NaN  Just got sent this photo from Ruby #Alaska as ...   \n",
              "\n",
              "   target  \n",
              "0       1  \n",
              "1       1  \n",
              "2       1  \n",
              "3       1  \n",
              "4       1  "
            ],
            "text/html": [
              "\n",
              "\n",
              "  <div id=\"df-29185802-269e-4d5c-afa9-96cb7b9c0d6f\">\n",
              "    <div class=\"colab-df-container\">\n",
              "      <div>\n",
              "<style scoped>\n",
              "    .dataframe tbody tr th:only-of-type {\n",
              "        vertical-align: middle;\n",
              "    }\n",
              "\n",
              "    .dataframe tbody tr th {\n",
              "        vertical-align: top;\n",
              "    }\n",
              "\n",
              "    .dataframe thead th {\n",
              "        text-align: right;\n",
              "    }\n",
              "</style>\n",
              "<table border=\"1\" class=\"dataframe\">\n",
              "  <thead>\n",
              "    <tr style=\"text-align: right;\">\n",
              "      <th></th>\n",
              "      <th>id</th>\n",
              "      <th>keyword</th>\n",
              "      <th>location</th>\n",
              "      <th>text</th>\n",
              "      <th>target</th>\n",
              "    </tr>\n",
              "  </thead>\n",
              "  <tbody>\n",
              "    <tr>\n",
              "      <th>0</th>\n",
              "      <td>1</td>\n",
              "      <td>NaN</td>\n",
              "      <td>NaN</td>\n",
              "      <td>Our Deeds are the Reason of this #earthquake M...</td>\n",
              "      <td>1</td>\n",
              "    </tr>\n",
              "    <tr>\n",
              "      <th>1</th>\n",
              "      <td>4</td>\n",
              "      <td>NaN</td>\n",
              "      <td>NaN</td>\n",
              "      <td>Forest fire near La Ronge Sask. Canada</td>\n",
              "      <td>1</td>\n",
              "    </tr>\n",
              "    <tr>\n",
              "      <th>2</th>\n",
              "      <td>5</td>\n",
              "      <td>NaN</td>\n",
              "      <td>NaN</td>\n",
              "      <td>All residents asked to 'shelter in place' are ...</td>\n",
              "      <td>1</td>\n",
              "    </tr>\n",
              "    <tr>\n",
              "      <th>3</th>\n",
              "      <td>6</td>\n",
              "      <td>NaN</td>\n",
              "      <td>NaN</td>\n",
              "      <td>13,000 people receive #wildfires evacuation or...</td>\n",
              "      <td>1</td>\n",
              "    </tr>\n",
              "    <tr>\n",
              "      <th>4</th>\n",
              "      <td>7</td>\n",
              "      <td>NaN</td>\n",
              "      <td>NaN</td>\n",
              "      <td>Just got sent this photo from Ruby #Alaska as ...</td>\n",
              "      <td>1</td>\n",
              "    </tr>\n",
              "  </tbody>\n",
              "</table>\n",
              "</div>\n",
              "      <button class=\"colab-df-convert\" onclick=\"convertToInteractive('df-29185802-269e-4d5c-afa9-96cb7b9c0d6f')\"\n",
              "              title=\"Convert this dataframe to an interactive table.\"\n",
              "              style=\"display:none;\">\n",
              "\n",
              "  <svg xmlns=\"http://www.w3.org/2000/svg\" height=\"24px\"viewBox=\"0 0 24 24\"\n",
              "       width=\"24px\">\n",
              "    <path d=\"M0 0h24v24H0V0z\" fill=\"none\"/>\n",
              "    <path d=\"M18.56 5.44l.94 2.06.94-2.06 2.06-.94-2.06-.94-.94-2.06-.94 2.06-2.06.94zm-11 1L8.5 8.5l.94-2.06 2.06-.94-2.06-.94L8.5 2.5l-.94 2.06-2.06.94zm10 10l.94 2.06.94-2.06 2.06-.94-2.06-.94-.94-2.06-.94 2.06-2.06.94z\"/><path d=\"M17.41 7.96l-1.37-1.37c-.4-.4-.92-.59-1.43-.59-.52 0-1.04.2-1.43.59L10.3 9.45l-7.72 7.72c-.78.78-.78 2.05 0 2.83L4 21.41c.39.39.9.59 1.41.59.51 0 1.02-.2 1.41-.59l7.78-7.78 2.81-2.81c.8-.78.8-2.07 0-2.86zM5.41 20L4 18.59l7.72-7.72 1.47 1.35L5.41 20z\"/>\n",
              "  </svg>\n",
              "      </button>\n",
              "\n",
              "\n",
              "\n",
              "    <div id=\"df-9de85179-afad-44a0-a857-c4ae8368cefb\">\n",
              "      <button class=\"colab-df-quickchart\" onclick=\"quickchart('df-9de85179-afad-44a0-a857-c4ae8368cefb')\"\n",
              "              title=\"Suggest charts.\"\n",
              "              style=\"display:none;\">\n",
              "\n",
              "<svg xmlns=\"http://www.w3.org/2000/svg\" height=\"24px\"viewBox=\"0 0 24 24\"\n",
              "     width=\"24px\">\n",
              "    <g>\n",
              "        <path d=\"M19 3H5c-1.1 0-2 .9-2 2v14c0 1.1.9 2 2 2h14c1.1 0 2-.9 2-2V5c0-1.1-.9-2-2-2zM9 17H7v-7h2v7zm4 0h-2V7h2v10zm4 0h-2v-4h2v4z\"/>\n",
              "    </g>\n",
              "</svg>\n",
              "      </button>\n",
              "    </div>\n",
              "\n",
              "<style>\n",
              "  .colab-df-quickchart {\n",
              "    background-color: #E8F0FE;\n",
              "    border: none;\n",
              "    border-radius: 50%;\n",
              "    cursor: pointer;\n",
              "    display: none;\n",
              "    fill: #1967D2;\n",
              "    height: 32px;\n",
              "    padding: 0 0 0 0;\n",
              "    width: 32px;\n",
              "  }\n",
              "\n",
              "  .colab-df-quickchart:hover {\n",
              "    background-color: #E2EBFA;\n",
              "    box-shadow: 0px 1px 2px rgba(60, 64, 67, 0.3), 0px 1px 3px 1px rgba(60, 64, 67, 0.15);\n",
              "    fill: #174EA6;\n",
              "  }\n",
              "\n",
              "  [theme=dark] .colab-df-quickchart {\n",
              "    background-color: #3B4455;\n",
              "    fill: #D2E3FC;\n",
              "  }\n",
              "\n",
              "  [theme=dark] .colab-df-quickchart:hover {\n",
              "    background-color: #434B5C;\n",
              "    box-shadow: 0px 1px 3px 1px rgba(0, 0, 0, 0.15);\n",
              "    filter: drop-shadow(0px 1px 2px rgba(0, 0, 0, 0.3));\n",
              "    fill: #FFFFFF;\n",
              "  }\n",
              "</style>\n",
              "\n",
              "    <script>\n",
              "      async function quickchart(key) {\n",
              "        const containerElement = document.querySelector('#' + key);\n",
              "        const charts = await google.colab.kernel.invokeFunction(\n",
              "            'suggestCharts', [key], {});\n",
              "      }\n",
              "    </script>\n",
              "\n",
              "      <script>\n",
              "\n",
              "function displayQuickchartButton(domScope) {\n",
              "  let quickchartButtonEl =\n",
              "    domScope.querySelector('#df-9de85179-afad-44a0-a857-c4ae8368cefb button.colab-df-quickchart');\n",
              "  quickchartButtonEl.style.display =\n",
              "    google.colab.kernel.accessAllowed ? 'block' : 'none';\n",
              "}\n",
              "\n",
              "        displayQuickchartButton(document);\n",
              "      </script>\n",
              "      <style>\n",
              "    .colab-df-container {\n",
              "      display:flex;\n",
              "      flex-wrap:wrap;\n",
              "      gap: 12px;\n",
              "    }\n",
              "\n",
              "    .colab-df-convert {\n",
              "      background-color: #E8F0FE;\n",
              "      border: none;\n",
              "      border-radius: 50%;\n",
              "      cursor: pointer;\n",
              "      display: none;\n",
              "      fill: #1967D2;\n",
              "      height: 32px;\n",
              "      padding: 0 0 0 0;\n",
              "      width: 32px;\n",
              "    }\n",
              "\n",
              "    .colab-df-convert:hover {\n",
              "      background-color: #E2EBFA;\n",
              "      box-shadow: 0px 1px 2px rgba(60, 64, 67, 0.3), 0px 1px 3px 1px rgba(60, 64, 67, 0.15);\n",
              "      fill: #174EA6;\n",
              "    }\n",
              "\n",
              "    [theme=dark] .colab-df-convert {\n",
              "      background-color: #3B4455;\n",
              "      fill: #D2E3FC;\n",
              "    }\n",
              "\n",
              "    [theme=dark] .colab-df-convert:hover {\n",
              "      background-color: #434B5C;\n",
              "      box-shadow: 0px 1px 3px 1px rgba(0, 0, 0, 0.15);\n",
              "      filter: drop-shadow(0px 1px 2px rgba(0, 0, 0, 0.3));\n",
              "      fill: #FFFFFF;\n",
              "    }\n",
              "  </style>\n",
              "\n",
              "      <script>\n",
              "        const buttonEl =\n",
              "          document.querySelector('#df-29185802-269e-4d5c-afa9-96cb7b9c0d6f button.colab-df-convert');\n",
              "        buttonEl.style.display =\n",
              "          google.colab.kernel.accessAllowed ? 'block' : 'none';\n",
              "\n",
              "        async function convertToInteractive(key) {\n",
              "          const element = document.querySelector('#df-29185802-269e-4d5c-afa9-96cb7b9c0d6f');\n",
              "          const dataTable =\n",
              "            await google.colab.kernel.invokeFunction('convertToInteractive',\n",
              "                                                     [key], {});\n",
              "          if (!dataTable) return;\n",
              "\n",
              "          const docLinkHtml = 'Like what you see? Visit the ' +\n",
              "            '<a target=\"_blank\" href=https://colab.research.google.com/notebooks/data_table.ipynb>data table notebook</a>'\n",
              "            + ' to learn more about interactive tables.';\n",
              "          element.innerHTML = '';\n",
              "          dataTable['output_type'] = 'display_data';\n",
              "          await google.colab.output.renderOutput(dataTable, element);\n",
              "          const docLink = document.createElement('div');\n",
              "          docLink.innerHTML = docLinkHtml;\n",
              "          element.appendChild(docLink);\n",
              "        }\n",
              "      </script>\n",
              "    </div>\n",
              "  </div>\n"
            ]
          },
          "metadata": {},
          "execution_count": 5
        }
      ]
    },
    {
      "cell_type": "markdown",
      "source": [
        "*Accuracy = $\\frac{TP + TN}{TP + FP + TN + FN}$* can be quite sensetive for class disbanace, so we need to check it."
      ],
      "metadata": {
        "id": "gTPuxkIkenWZ"
      }
    },
    {
      "cell_type": "code",
      "source": [
        "train_df['target'].plot.hist()"
      ],
      "metadata": {
        "colab": {
          "base_uri": "https://localhost:8080/",
          "height": 447
        },
        "id": "RQiSZcTycrsF",
        "outputId": "66dcd28c-6a62-423e-b782-12496c243216"
      },
      "execution_count": null,
      "outputs": [
        {
          "output_type": "execute_result",
          "data": {
            "text/plain": [
              "<Axes: ylabel='Frequency'>"
            ]
          },
          "metadata": {},
          "execution_count": 6
        },
        {
          "output_type": "display_data",
          "data": {
            "text/plain": [
              "<Figure size 640x480 with 1 Axes>"
            ],
            "image/png": "[encoded data removed]"
          },
          "metadata": {}
        }
      ]
    },
    {
      "cell_type": "markdown",
      "source": [
        "#Preprocessing"
      ],
      "metadata": {
        "id": "A4YvC3RSAtnS"
      }
    },
    {
      "cell_type": "code",
      "source": [
        "import string\n",
        "import nltk\n",
        "nltk.download('punkt')\n",
        "nltk.download('stopwords')\n",
        "from nltk.tokenize import sent_tokenize\n",
        "from nltk.corpus import stopwords"
      ],
      "metadata": {
        "id": "RrcEDAmZIyAj"
      },
      "execution_count": null,
      "outputs": []
    },
    {
      "cell_type": "code",
      "source": [
        "def my_tokenizer(sentence):\n",
        "    sent = [x.lower() for x in sent_tokenize(sentence) if x not in string.punctuation and x not in stopwords.words('english')] # and x not in stopwords\n",
        "    return \" \".join(sent)"
      ],
      "metadata": {
        "id": "WwM5htmc-IiH"
      },
      "execution_count": null,
      "outputs": []
    },
    {
      "cell_type": "code",
      "source": [
        "train_df['tokenized'] = train_df['text'].apply(my_tokenizer)\n",
        "test_df['tokenized'] = test_df['text'].apply(my_tokenizer)\n",
        "train_df.head()"
      ],
      "metadata": {
        "id": "5z9yNvaoK-4Q"
      },
      "execution_count": null,
      "outputs": []
    },
    {
      "cell_type": "markdown",
      "source": [
        "Now we need to get embadding of the sentence, there's quite a big field for experement, this time I'll use sbert a.k.a. [Sentence-BERT](https://sbert.net)\n",
        "\n",
        "(примеры других эмбеддингов см. [тут](https://habr.com/ru/articles/515036/))"
      ],
      "metadata": {
        "id": "PsWzY_A-QCWc"
      }
    },
    {
      "cell_type": "code",
      "source": [
        "!pip install -U sentence-transformers"
      ],
      "metadata": {
        "id": "PAOF7c8FRHxS"
      },
      "execution_count": null,
      "outputs": []
    },
    {
      "cell_type": "code",
      "source": [
        "from sentence_transformers import SentenceTransformer\n",
        "model = SentenceTransformer('all-MiniLM-L6-v2')"
      ],
      "metadata": {
        "id": "f6WbK_5cR8b7"
      },
      "execution_count": null,
      "outputs": []
    },
    {
      "cell_type": "code",
      "source": [
        "train_df['embaddings'] = train_df[\"tokenized\"].apply(model.encode) # this can take a while\n",
        "test_df['embaddings'] = test_df[\"tokenized\"].apply(model.encode) # ОСОБЕННО КОГДА У ТЕБЯ A100 ОТОБРАЛИ\n",
        "train_df.head()"
      ],
      "metadata": {
        "id": "b1pkdwj9PFkn"
      },
      "execution_count": null,
      "outputs": []
    },
    {
      "cell_type": "markdown",
      "source": [
        "#CatBoost\n"
      ],
      "metadata": {
        "id": "jb1xsnTKTeS0"
      }
    },
    {
      "cell_type": "markdown",
      "source": [
        "Catboost can work with categorial features so we don't need to preprocess anything (mby we don't want to use them because of big number of unique and NaN values -- it can cause overtraining)"
      ],
      "metadata": {
        "id": "5olrQjU5T2Bq"
      }
    },
    {
      "cell_type": "code",
      "source": [
        "# train_df['keyword'].unique()\n",
        "len(train_df['location'].unique())"
      ],
      "metadata": {
        "id": "2q5diKqYUbEM"
      },
      "execution_count": null,
      "outputs": []
    },
    {
      "cell_type": "code",
      "source": [
        "!pip install catboost\n",
        "from catboost import CatBoostClassifier"
      ],
      "metadata": {
        "id": "Pr7mmAHtTj0M"
      },
      "execution_count": null,
      "outputs": []
    },
    {
      "cell_type": "code",
      "source": [
        "X = train_df['embaddings'].to_list()\n",
        "y = train_df['target'].to_list()"
      ],
      "metadata": {
        "id": "4dtfqa9mWaA8"
      },
      "execution_count": null,
      "outputs": []
    },
    {
      "cell_type": "code",
      "source": [
        "from sklearn.metrics import accuracy_score\n",
        "# for n in tqdm([1, 10, 50, 100, 150, 200, 250]): # подбор гиперпараметра, что еще подбирать -- хз\n",
        "#     model = CatBoostClassifier(n_estimators=n, eval_metric='Accuracy', task_type='GPU')\n",
        "#     model.fit(X, y)\n",
        "#     ans = model.predict(X)\n",
        "#     train_acc = accuracy_score(y, ans)\n",
        "#     print(f\"Accuracy with {n} estimators is: {train_acc}\")"
      ],
      "metadata": {
        "id": "h8GUehM7X1LY"
      },
      "execution_count": null,
      "outputs": []
    },
    {
      "cell_type": "code",
      "source": [
        " model = CatBoostClassifier(n_estimators=250, eval_metric='Accuracy', task_type='GPU')\n",
        " model.fit(X, y)"
      ],
      "metadata": {
        "id": "uMlQGbMceFCg"
      },
      "execution_count": null,
      "outputs": []
    },
    {
      "cell_type": "code",
      "source": [
        "test_df['target'] = test_df['embaddings'].apply(model.predict)"
      ],
      "metadata": {
        "id": "4Zz71cQ5fAcE"
      },
      "execution_count": null,
      "outputs": []
    },
    {
      "cell_type": "code",
      "source": [
        "test_df.to_csv('./ans.csv', columns = ['id', 'target'], index=False)"
      ],
      "metadata": {
        "id": "Jz1A6bUZLDkP"
      },
      "execution_count": null,
      "outputs": []
    },
    {
      "cell_type": "markdown",
      "source": [
        "Now we have pretty good score:![image.png](data:image/png;base64,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)"
      ],
      "metadata": {
        "id": "AjZTSStpMp5T"
      }
    },
    {
      "cell_type": "markdown",
      "source": [
        "#LLM\n"
      ],
      "metadata": {
        "id": "ETsLITgmPDh8"
      }
    },
    {
      "cell_type": "markdown",
      "source": [
        "Now I'll to beat my baseline (not really) model using pretrained BERT"
      ],
      "metadata": {
        "id": "y9krUmYCPKX0"
      }
    },
    {
      "cell_type": "code",
      "source": [
        "!pip install transformers -U\n",
        "!pip install transformers[torch]\n",
        "!pip install accelerate -U"
      ],
      "metadata": {
        "id": "moCPzgCcPJsy",
        "colab": {
          "base_uri": "https://localhost:8080/"
        },
        "outputId": "5efdbc35-d31c-429c-f991-83a5bb947270"
      },
      "execution_count": null,
      "outputs": [
        {
          "output_type": "stream",
          "name": "stdout",
          "text": [
            "Collecting transformers\n",
            "  Downloading transformers-4.31.0-py3-none-any.whl (7.4 MB)\n",
            "\u001b[2K     \u001b[90m━━━━━━━━━━━━━━━━━━━━━━━━━━━━━━━━━━━━━━━━\u001b[0m \u001b[32m7.4/7.4 MB\u001b[0m \u001b[31m51.3 MB/s\u001b[0m eta \u001b[36m0:00:00\u001b[0m\n",
            "\u001b[?25hRequirement already satisfied: filelock in /usr/local/lib/python3.10/dist-packages (from transformers) (3.12.2)\n",
            "Collecting huggingface-hub<1.0,>=0.14.1 (from transformers)\n",
            "  Downloading huggingface_hub-0.16.4-py3-none-any.whl (268 kB)\n",
            "\u001b[2K     \u001b[90m━━━━━━━━━━━━━━━━━━━━━━━━━━━━━━━━━━━━━━\u001b[0m \u001b[32m268.8/268.8 kB\u001b[0m \u001b[31m31.8 MB/s\u001b[0m eta \u001b[36m0:00:00\u001b[0m\n",
            "\u001b[?25hRequirement already satisfied: numpy>=1.17 in /usr/local/lib/python3.10/dist-packages (from transformers) (1.22.4)\n",
            "Requirement already satisfied: packaging>=20.0 in /usr/local/lib/python3.10/dist-packages (from transformers) (23.1)\n",
            "Requirement already satisfied: pyyaml>=5.1 in /usr/local/lib/python3.10/dist-packages (from transformers) (6.0.1)\n",
            "Requirement already satisfied: regex!=2019.12.17 in /usr/local/lib/python3.10/dist-packages (from transformers) (2022.10.31)\n",
            "Requirement already satisfied: requests in /usr/local/lib/python3.10/dist-packages (from transformers) (2.27.1)\n",
            "Collecting tokenizers!=0.11.3,<0.14,>=0.11.1 (from transformers)\n",
            "  Downloading tokenizers-0.13.3-cp310-cp310-manylinux_2_17_x86_64.manylinux2014_x86_64.whl (7.8 MB)\n",
            "\u001b[2K     \u001b[90m━━━━━━━━━━━━━━━━━━━━━━━━━━━━━━━━━━━━━━━━\u001b[0m \u001b[32m7.8/7.8 MB\u001b[0m \u001b[31m126.1 MB/s\u001b[0m eta \u001b[36m0:00:00\u001b[0m\n",
            "\u001b[?25hCollecting safetensors>=0.3.1 (from transformers)\n",
            "  Downloading safetensors-0.3.1-cp310-cp310-manylinux_2_17_x86_64.manylinux2014_x86_64.whl (1.3 MB)\n",
            "\u001b[2K     \u001b[90m━━━━━━━━━━━━━━━━━━━━━━━━━━━━━━━━━━━━━━━━\u001b[0m \u001b[32m1.3/1.3 MB\u001b[0m \u001b[31m82.4 MB/s\u001b[0m eta \u001b[36m0:00:00\u001b[0m\n",
            "\u001b[?25hRequirement already satisfied: tqdm>=4.27 in /usr/local/lib/python3.10/dist-packages (from transformers) (4.65.0)\n",
            "Requirement already satisfied: fsspec in /usr/local/lib/python3.10/dist-packages (from huggingface-hub<1.0,>=0.14.1->transformers) (2023.6.0)\n",
            "Requirement already satisfied: typing-extensions>=3.7.4.3 in /usr/local/lib/python3.10/dist-packages (from huggingface-hub<1.0,>=0.14.1->transformers) (4.7.1)\n",
            "Requirement already satisfied: urllib3<1.27,>=1.21.1 in /usr/local/lib/python3.10/dist-packages (from requests->transformers) (1.26.16)\n",
            "Requirement already satisfied: certifi>=2017.4.17 in /usr/local/lib/python3.10/dist-packages (from requests->transformers) (2023.7.22)\n",
            "Requirement already satisfied: charset-normalizer~=2.0.0 in /usr/local/lib/python3.10/dist-packages (from requests->transformers) (2.0.12)\n",
            "Requirement already satisfied: idna<4,>=2.5 in /usr/local/lib/python3.10/dist-packages (from requests->transformers) (3.4)\n",
            "Installing collected packages: tokenizers, safetensors, huggingface-hub, transformers\n",
            "Successfully installed huggingface-hub-0.16.4 safetensors-0.3.1 tokenizers-0.13.3 transformers-4.31.0\n",
            "Requirement already satisfied: transformers[torch] in /usr/local/lib/python3.10/dist-packages (4.31.0)\n",
            "Requirement already satisfied: filelock in /usr/local/lib/python3.10/dist-packages (from transformers[torch]) (3.12.2)\n",
            "Requirement already satisfied: huggingface-hub<1.0,>=0.14.1 in /usr/local/lib/python3.10/dist-packages (from transformers[torch]) (0.16.4)\n",
            "Requirement already satisfied: numpy>=1.17 in /usr/local/lib/python3.10/dist-packages (from transformers[torch]) (1.22.4)\n",
            "Requirement already satisfied: packaging>=20.0 in /usr/local/lib/python3.10/dist-packages (from transformers[torch]) (23.1)\n",
            "Requirement already satisfied: pyyaml>=5.1 in /usr/local/lib/python3.10/dist-packages (from transformers[torch]) (6.0.1)\n",
            "Requirement already satisfied: regex!=2019.12.17 in /usr/local/lib/python3.10/dist-packages (from transformers[torch]) (2022.10.31)\n",
            "Requirement already satisfied: requests in /usr/local/lib/python3.10/dist-packages (from transformers[torch]) (2.27.1)\n",
            "Requirement already satisfied: tokenizers!=0.11.3,<0.14,>=0.11.1 in /usr/local/lib/python3.10/dist-packages (from transformers[torch]) (0.13.3)\n",
            "Requirement already satisfied: safetensors>=0.3.1 in /usr/local/lib/python3.10/dist-packages (from transformers[torch]) (0.3.1)\n",
            "Requirement already satisfied: tqdm>=4.27 in /usr/local/lib/python3.10/dist-packages (from transformers[torch]) (4.65.0)\n",
            "Requirement already satisfied: torch!=1.12.0,>=1.9 in /usr/local/lib/python3.10/dist-packages (from transformers[torch]) (2.0.1+cu118)\n",
            "Collecting accelerate>=0.20.3 (from transformers[torch])\n",
            "  Downloading accelerate-0.21.0-py3-none-any.whl (244 kB)\n",
            "\u001b[2K     \u001b[90m━━━━━━━━━━━━━━━━━━━━━━━━━━━━━━━━━━━━━━━\u001b[0m \u001b[32m244.2/244.2 kB\u001b[0m \u001b[31m4.7 MB/s\u001b[0m eta \u001b[36m0:00:00\u001b[0m\n",
            "\u001b[?25hRequirement already satisfied: psutil in /usr/local/lib/python3.10/dist-packages (from accelerate>=0.20.3->transformers[torch]) (5.9.5)\n",
            "Requirement already satisfied: fsspec in /usr/local/lib/python3.10/dist-packages (from huggingface-hub<1.0,>=0.14.1->transformers[torch]) (2023.6.0)\n",
            "Requirement already satisfied: typing-extensions>=3.7.4.3 in /usr/local/lib/python3.10/dist-packages (from huggingface-hub<1.0,>=0.14.1->transformers[torch]) (4.7.1)\n",
            "Requirement already satisfied: sympy in /usr/local/lib/python3.10/dist-packages (from torch!=1.12.0,>=1.9->transformers[torch]) (1.11.1)\n",
            "Requirement already satisfied: networkx in /usr/local/lib/python3.10/dist-packages (from torch!=1.12.0,>=1.9->transformers[torch]) (3.1)\n",
            "Requirement already satisfied: jinja2 in /usr/local/lib/python3.10/dist-packages (from torch!=1.12.0,>=1.9->transformers[torch]) (3.1.2)\n",
            "Requirement already satisfied: triton==2.0.0 in /usr/local/lib/python3.10/dist-packages (from torch!=1.12.0,>=1.9->transformers[torch]) (2.0.0)\n",
            "Requirement already satisfied: cmake in /usr/local/lib/python3.10/dist-packages (from triton==2.0.0->torch!=1.12.0,>=1.9->transformers[torch]) (3.25.2)\n",
            "Requirement already satisfied: lit in /usr/local/lib/python3.10/dist-packages (from triton==2.0.0->torch!=1.12.0,>=1.9->transformers[torch]) (16.0.6)\n",
            "Requirement already satisfied: urllib3<1.27,>=1.21.1 in /usr/local/lib/python3.10/dist-packages (from requests->transformers[torch]) (1.26.16)\n",
            "Requirement already satisfied: certifi>=2017.4.17 in /usr/local/lib/python3.10/dist-packages (from requests->transformers[torch]) (2023.7.22)\n",
            "Requirement already satisfied: charset-normalizer~=2.0.0 in /usr/local/lib/python3.10/dist-packages (from requests->transformers[torch]) (2.0.12)\n",
            "Requirement already satisfied: idna<4,>=2.5 in /usr/local/lib/python3.10/dist-packages (from requests->transformers[torch]) (3.4)\n",
            "Requirement already satisfied: MarkupSafe>=2.0 in /usr/local/lib/python3.10/dist-packages (from jinja2->torch!=1.12.0,>=1.9->transformers[torch]) (2.1.3)\n",
            "Requirement already satisfied: mpmath>=0.19 in /usr/local/lib/python3.10/dist-packages (from sympy->torch!=1.12.0,>=1.9->transformers[torch]) (1.3.0)\n",
            "Installing collected packages: accelerate\n",
            "Successfully installed accelerate-0.21.0\n",
            "Requirement already satisfied: accelerate in /usr/local/lib/python3.10/dist-packages (0.21.0)\n",
            "Requirement already satisfied: numpy>=1.17 in /usr/local/lib/python3.10/dist-packages (from accelerate) (1.22.4)\n",
            "Requirement already satisfied: packaging>=20.0 in /usr/local/lib/python3.10/dist-packages (from accelerate) (23.1)\n",
            "Requirement already satisfied: psutil in /usr/local/lib/python3.10/dist-packages (from accelerate) (5.9.5)\n",
            "Requirement already satisfied: pyyaml in /usr/local/lib/python3.10/dist-packages (from accelerate) (6.0.1)\n",
            "Requirement already satisfied: torch>=1.10.0 in /usr/local/lib/python3.10/dist-packages (from accelerate) (2.0.1+cu118)\n",
            "Requirement already satisfied: filelock in /usr/local/lib/python3.10/dist-packages (from torch>=1.10.0->accelerate) (3.12.2)\n",
            "Requirement already satisfied: typing-extensions in /usr/local/lib/python3.10/dist-packages (from torch>=1.10.0->accelerate) (4.7.1)\n",
            "Requirement already satisfied: sympy in /usr/local/lib/python3.10/dist-packages (from torch>=1.10.0->accelerate) (1.11.1)\n",
            "Requirement already satisfied: networkx in /usr/local/lib/python3.10/dist-packages (from torch>=1.10.0->accelerate) (3.1)\n",
            "Requirement already satisfied: jinja2 in /usr/local/lib/python3.10/dist-packages (from torch>=1.10.0->accelerate) (3.1.2)\n",
            "Requirement already satisfied: triton==2.0.0 in /usr/local/lib/python3.10/dist-packages (from torch>=1.10.0->accelerate) (2.0.0)\n",
            "Requirement already satisfied: cmake in /usr/local/lib/python3.10/dist-packages (from triton==2.0.0->torch>=1.10.0->accelerate) (3.25.2)\n",
            "Requirement already satisfied: lit in /usr/local/lib/python3.10/dist-packages (from triton==2.0.0->torch>=1.10.0->accelerate) (16.0.6)\n",
            "Requirement already satisfied: MarkupSafe>=2.0 in /usr/local/lib/python3.10/dist-packages (from jinja2->torch>=1.10.0->accelerate) (2.1.3)\n",
            "Requirement already satisfied: mpmath>=0.19 in /usr/local/lib/python3.10/dist-packages (from sympy->torch>=1.10.0->accelerate) (1.3.0)\n"
          ]
        }
      ]
    },
    {
      "cell_type": "code",
      "source": [
        "from transformers import BertTokenizer, BertForSequenceClassification\n",
        "tokenizer = BertTokenizer.from_pretrained('bert-base-uncased') # i think we need to tokenize text again\n",
        "\n",
        "model = BertForSequenceClassification.from_pretrained('bert-base-uncased')"
      ],
      "metadata": {
        "id": "WeYXnBv-oU1C",
        "colab": {
          "base_uri": "https://localhost:8080/",
          "height": 180,
          "referenced_widgets": [
            "1aead7948659493fa12d9b4e85428dc1",
            "994cf9caf86647e6848dec4980231023",
            "e315a57168c048349e7ab81dde38f577",
            "556933cd56db42c0a90969a49aa958ee",
            "548eb194cc6d4d36ba609d81ac382372",
            "beec42644c134975afdfb45f9c9708e1",
            "238a9a402b7d44c3b4641f7051964966",
            "06cf120283664642905dc3eea01ca52f",
            "62e626c1a6984f5a9475abc875a1cf80",
            "4bc89a84027c4453b48580d9a5072273",
            "094748b5b3374f41814f7133a62d1c93",
            "ac66ff7c4eae4f5f85143bf2dfcf75ba",
            "b14f6d449bf34a6bb7de72a14d412e3d",
            "aa249dda29fd41ce88612fa0bd7ff1ae",
            "6c3bbc429faf46e6a345779e81da1025",
            "1a2e148ea68b4785b271e416ec6b1358",
            "f7919312be7048998ae57f7f8206049d",
            "ac7597733ae745b6b3d8a371d5810392",
            "a5bd6229f0c24115a936e79c023de6f3",
            "faf4bf04a0ac461ba89070c3fb080798",
            "4adcac3a4ce84f9bb66fbf4fa029f008",
            "6e8376fb25274d78a41064fa9428e4d8",
            "40c997aaa59143b880fd9e56ffc05165",
            "de5b7f7aa04843bba12860057dbef60a",
            "ccf262516341429ba72ee6799df266fd",
            "840d153723e04ed8b019488173187891",
            "776fbb0a457946168f3e22babd876671",
            "526ce558d941431ba5b367891b65140c",
            "0322e0ceb8a04c11b23f446518ac36b5",
            "efc4234cc5c145eaad2e28572c097843",
            "fd81e263c8d1421dbce7950bdbe5fac0",
            "e45171b1af8e4f12bb074c65e8a80126",
            "8c9cbd7d0f42454d876c525ef69cde8c",
            "1afb6f56416a464586168b315f1174e0",
            "b98d132604a14bea86817535d3894347",
            "9d96ef4a1bd24d8ea0d7c51fbbd67b20",
            "90c1229de5bf4405af1b2b183dbb8be2",
            "ecb9e5ab8d654a9093015a780be5359e",
            "4f970585e9474c53983acf8be12d77d1",
            "7fe6653c6aa54c66bdca9e6b73aabb02",
            "fc9cde3b5bd149c9ad44b01f0017a07f",
            "66a755c383a14d59b23b625fa968f4a8",
            "3a5582e1bfbe42c1ba4162d55cb4254a",
            "c52608dc28184eb9b9d1aa4a5c381f24"
          ]
        },
        "outputId": "081809f3-d044-43d2-d25b-6b2db6e004a4"
      },
      "execution_count": null,
      "outputs": [
        {
          "output_type": "display_data",
          "data": {
            "text/plain": [
              "Downloading (…)solve/main/vocab.txt:   0%|          | 0.00/232k [00:00<?, ?B/s]"
            ],
            "application/vnd.jupyter.widget-view+json": {
              "version_major": 2,
              "version_minor": 0,
              "model_id": "1aead7948659493fa12d9b4e85428dc1"
            }
          },
          "metadata": {}
        },
        {
          "output_type": "display_data",
          "data": {
            "text/plain": [
              "Downloading (…)okenizer_config.json:   0%|          | 0.00/28.0 [00:00<?, ?B/s]"
            ],
            "application/vnd.jupyter.widget-view+json": {
              "version_major": 2,
              "version_minor": 0,
              "model_id": "ac66ff7c4eae4f5f85143bf2dfcf75ba"
            }
          },
          "metadata": {}
        },
        {
          "output_type": "display_data",
          "data": {
            "text/plain": [
              "Downloading (…)lve/main/config.json:   0%|          | 0.00/570 [00:00<?, ?B/s]"
            ],
            "application/vnd.jupyter.widget-view+json": {
              "version_major": 2,
              "version_minor": 0,
              "model_id": "40c997aaa59143b880fd9e56ffc05165"
            }
          },
          "metadata": {}
        },
        {
          "output_type": "display_data",
          "data": {
            "text/plain": [
              "Downloading model.safetensors:   0%|          | 0.00/440M [00:00<?, ?B/s]"
            ],
            "application/vnd.jupyter.widget-view+json": {
              "version_major": 2,
              "version_minor": 0,
              "model_id": "1afb6f56416a464586168b315f1174e0"
            }
          },
          "metadata": {}
        },
        {
          "output_type": "stream",
          "name": "stderr",
          "text": [
            "Some weights of BertForSequenceClassification were not initialized from the model checkpoint at bert-base-uncased and are newly initialized: ['classifier.bias', 'classifier.weight']\n",
            "You should probably TRAIN this model on a down-stream task to be able to use it for predictions and inference.\n"
          ]
        }
      ]
    },
    {
      "cell_type": "code",
      "source": [
        "model.to(device)\n",
        "device"
      ],
      "metadata": {
        "id": "bYhIbXUUo-Ga",
        "colab": {
          "base_uri": "https://localhost:8080/",
          "height": 35
        },
        "outputId": "0e56e1fb-51b1-4a08-b834-515f5af375d8"
      },
      "execution_count": null,
      "outputs": [
        {
          "output_type": "execute_result",
          "data": {
            "text/plain": [
              "'cuda'"
            ],
            "application/vnd.google.colaboratory.intrinsic+json": {
              "type": "string"
            }
          },
          "metadata": {},
          "execution_count": 9
        }
      ]
    },
    {
      "cell_type": "code",
      "source": [
        "train_df = pd.read_csv(\"/content/data/train.csv\")\n",
        "test_df = pd.read_csv(\"/content/data/test.csv\")"
      ],
      "metadata": {
        "id": "2mOXt4_Ktu7b"
      },
      "execution_count": null,
      "outputs": []
    },
    {
      "cell_type": "code",
      "source": [
        "X = list(train_df['text'])\n",
        "y = list(train_df['target'])"
      ],
      "metadata": {
        "id": "N7bXuO4zpRGf"
      },
      "execution_count": null,
      "outputs": []
    },
    {
      "cell_type": "code",
      "source": [
        "from sklearn.model_selection import train_test_split\n",
        "X_train, X_val, y_train, y_val = train_test_split(X, y, test_size = 0.15, stratify=y)"
      ],
      "metadata": {
        "id": "CbCy6_QqqdvI"
      },
      "execution_count": null,
      "outputs": []
    },
    {
      "cell_type": "code",
      "source": [
        "X_train_embaddings = tokenizer(X_train, max_length=512, padding = \"max_length\")\n",
        "X_val_embaddings = tokenizer(X_val, max_length=512, padding = \"max_length\")"
      ],
      "metadata": {
        "id": "sAro5Amqu_kp"
      },
      "execution_count": null,
      "outputs": []
    },
    {
      "cell_type": "code",
      "source": [
        "class Dataset(torch.utils.data.Dataset):\n",
        "    \"\"\"\n",
        "    Custom PyTorch Dataset for handling input encodings and labels.\n",
        "\n",
        "    Args:\n",
        "        encodings (dict): A dictionary containing the input encodings (e.g., input_ids, attention_mask).\n",
        "        labels (list, optional): List of labels corresponding to each input. Set to None for inference.\n",
        "\n",
        "    Returns:\n",
        "        item (dict): A dictionary containing the tensors for each input encoding and labels (if provided).\n",
        "    \"\"\"\n",
        "\n",
        "    def __init__(self, encodings, labels=None):\n",
        "        self.encodings = encodings\n",
        "        self.labels = labels\n",
        "\n",
        "    def __getitem__(self, idx):\n",
        "        \"\"\"\n",
        "        Get an item from the dataset at the specified index.\n",
        "\n",
        "        Args:\n",
        "            idx (int): Index of the item to retrieve.\n",
        "\n",
        "        Returns:\n",
        "            item (dict): A dictionary containing the tensors for each input encoding and labels (if provided).\n",
        "        \"\"\"\n",
        "        item = {key: torch.tensor(val[idx]) for key, val in self.encodings.items()}\n",
        "        if self.labels:\n",
        "            item[\"labels\"] = torch.tensor(self.labels[idx])\n",
        "        return item\n",
        "\n",
        "    def __len__(self):\n",
        "        \"\"\"\n",
        "        Get the total number of samples in the dataset.\n",
        "\n",
        "        Returns:\n",
        "            int: Total number of samples in the dataset.\n",
        "        \"\"\"\n",
        "        return len(self.encodings[\"input_ids\"])"
      ],
      "metadata": {
        "id": "aMn4MAUvE2TX"
      },
      "execution_count": null,
      "outputs": []
    },
    {
      "cell_type": "code",
      "source": [
        "train_dataset = Dataset(X_train_embaddings, y_train)\n",
        "val_dataset = Dataset(X_val_embaddings, y_val)"
      ],
      "metadata": {
        "id": "xae1L0YCNXEp"
      },
      "execution_count": null,
      "outputs": []
    },
    {
      "cell_type": "code",
      "source": [
        "from transformers import TrainingArguments, Trainer # первый раз это использую, вроде как говорят, что экономит много строк кода\n",
        "from sklearn.metrics import accuracy_score, f1_score\n",
        "\n",
        "def calc_metrics(v):\n",
        "    predicted, labels = v\n",
        "    predicted = np.argmax(predicted, axis=1) # binary\n",
        "    return f\"Accuracy: {accuracy_score(labels, predicted)}, F1-score: {f1_score(labels, predicted)}\""
      ],
      "metadata": {
        "id": "rP6I5CNtwPT8"
      },
      "execution_count": null,
      "outputs": []
    },
    {
      "cell_type": "code",
      "source": [
        "args = TrainingArguments(output_dir='./123', num_train_epochs=5) # тут с числом эпох не разгуляешься...\n",
        "\n",
        "trainer = Trainer(model=model, train_dataset=train_dataset,\n",
        "    eval_dataset=val_dataset,\n",
        "    compute_metrics=calc_metrics,\n",
        "    args = args)"
      ],
      "metadata": {
        "id": "_1AV5p1yzHvy"
      },
      "execution_count": null,
      "outputs": []
    },
    {
      "cell_type": "code",
      "source": [
        "trainer.train()"
      ],
      "metadata": {
        "id": "cTBvbf6F1Sml",
        "colab": {
          "base_uri": "https://localhost:8080/",
          "height": 398
        },
        "outputId": "5c24bc8d-9920-4901-b9fe-a50c5754fca3"
      },
      "execution_count": null,
      "outputs": [
        {
          "output_type": "stream",
          "name": "stderr",
          "text": [
            "/usr/local/lib/python3.10/dist-packages/transformers/optimization.py:411: FutureWarning: This implementation of AdamW is deprecated and will be removed in a future version. Use the PyTorch implementation torch.optim.AdamW instead, or set `no_deprecation_warning=True` to disable this warning\n",
            "  warnings.warn(\n"
          ]
        },
        {
          "output_type": "display_data",
          "data": {
            "text/plain": [
              "<IPython.core.display.HTML object>"
            ],
            "text/html": [
              "\n",
              "    <div>\n",
              "      \n",
              "      <progress value='4045' max='4045' style='width:300px; height:20px; vertical-align: middle;'></progress>\n",
              "      [4045/4045 47:56, Epoch 5/5]\n",
              "    </div>\n",
              "    <table border=\"1\" class=\"dataframe\">\n",
              "  <thead>\n",
              " <tr style=\"text-align: left;\">\n",
              "      <th>Step</th>\n",
              "      <th>Training Loss</th>\n",
              "    </tr>\n",
              "  </thead>\n",
              "  <tbody>\n",
              "    <tr>\n",
              "      <td>500</td>\n",
              "      <td>0.513200</td>\n",
              "    </tr>\n",
              "    <tr>\n",
              "      <td>1000</td>\n",
              "      <td>0.481400</td>\n",
              "    </tr>\n",
              "    <tr>\n",
              "      <td>1500</td>\n",
              "      <td>0.419000</td>\n",
              "    </tr>\n",
              "    <tr>\n",
              "      <td>2000</td>\n",
              "      <td>0.350700</td>\n",
              "    </tr>\n",
              "    <tr>\n",
              "      <td>2500</td>\n",
              "      <td>0.340800</td>\n",
              "    </tr>\n",
              "    <tr>\n",
              "      <td>3000</td>\n",
              "      <td>0.260000</td>\n",
              "    </tr>\n",
              "    <tr>\n",
              "      <td>3500</td>\n",
              "      <td>0.191800</td>\n",
              "    </tr>\n",
              "    <tr>\n",
              "      <td>4000</td>\n",
              "      <td>0.197000</td>\n",
              "    </tr>\n",
              "  </tbody>\n",
              "</table><p>"
            ]
          },
          "metadata": {}
        },
        {
          "output_type": "execute_result",
          "data": {
            "text/plain": [
              "TrainOutput(global_step=4045, training_loss=0.3425584757725889, metrics={'train_runtime': 2881.2793, 'train_samples_per_second': 11.229, 'train_steps_per_second': 1.404, 'total_flos': 8512958196172800.0, 'train_loss': 0.3425584757725889, 'epoch': 5.0})"
            ]
          },
          "metadata": {},
          "execution_count": 18
        }
      ]
    },
    {
      "cell_type": "code",
      "source": [
        "temp = []\n",
        "for ind, row in test_df.iterrows():\n",
        "    text = row['text']\n",
        "    token = tokenizer(text, padding=True, truncation=True, return_tensors='pt').to(device)\n",
        "    pred = model(**token)\n",
        "\n",
        "    logits = pred.logits # predicted probability\n",
        "    ans = torch.nn.functional.softmax(logits, dim=-1)\n",
        "\n",
        "    predicted_label = torch.argmax(ans, dim=-1).item()\n",
        "    temp.append(predicted_label)\n",
        "\n",
        "df = pd.DataFrame({'id': test_df['id'], 'target': temp})"
      ],
      "metadata": {
        "id": "OIiGgF07UmO4"
      },
      "execution_count": null,
      "outputs": []
    },
    {
      "cell_type": "code",
      "source": [
        "df.to_csv(\"/content/data/submission.csv\", index=False)"
      ],
      "metadata": {
        "id": "bOLQPf8owFAQ"
      },
      "execution_count": null,
      "outputs": []
    },
    {
      "cell_type": "markdown",
      "source": [
        "Pretty solid result (top 15%) ![image.png](data:image/png;base64,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)\n"
      ],
      "metadata": {
        "id": "ltjfOnf7JF-H"
      }
    },
    {
      "cell_type": "markdown",
      "source": [
        "# More unsolved problems and suggestions\n"
      ],
      "metadata": {
        "id": "EuTfSKJ8Y5Oz"
      }
    },
    {
      "cell_type": "markdown",
      "source": [
        "* Twitter is a place where people can use different slang, unformal grammar and links so for pretrained model it can be quite difficult to understand it, but we can resolve it by cleaning dataset (like in this [paper](https://arxiv.org/pdf/2202.00795.pdf))\n",
        "* We can use hyperparameter fine tune (grid-search) to slightly increase accuracy\n",
        "* Try different embaddings for Catboost model\n",
        "* Try F1-score for learning\n",
        "* Use more epochs to fine-tune BERT\n"
      ],
      "metadata": {
        "id": "V8OlHvE2ZBmh"
      }
    }
  ]
}